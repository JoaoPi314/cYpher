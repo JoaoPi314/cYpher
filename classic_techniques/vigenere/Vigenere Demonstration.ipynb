{
 "cells": [
  {
   "cell_type": "markdown",
   "id": "a6ff2f78",
   "metadata": {},
   "source": [
    "# Testing the Vigenère Cipher"
   ]
  },
  {
   "cell_type": "code",
   "execution_count": 1,
   "id": "eb7eb08b",
   "metadata": {},
   "outputs": [],
   "source": [
    "import numpy as np\n",
    "from vigenere import *"
   ]
  },
  {
   "cell_type": "markdown",
   "id": "dbb5451e",
   "metadata": {},
   "source": [
    "**First, we will generate a key**"
   ]
  },
  {
   "cell_type": "code",
   "execution_count": 2,
   "id": "31222212",
   "metadata": {},
   "outputs": [
    {
     "name": "stdout",
     "output_type": "stream",
     "text": [
      "[32 46 29  4  0 19 36 23 60 84 58 49 57  2 75  1 44  1 22 78 19 12 39 11\n",
      " 40 58 79 26 77  4 65 39  4 35 46  8 46 49 81 36 41 55  1]\n"
     ]
    }
   ],
   "source": [
    "key_range = np.random.randint(45, size=1)\n",
    "key = np.random.randint(85, size=key_range)\n",
    "print(key)"
   ]
  },
  {
   "cell_type": "markdown",
   "id": "20fc22ae",
   "metadata": {},
   "source": [
    "**Now we will create the cipher. Note that the constructor makes the mod 26 operation**"
   ]
  },
  {
   "cell_type": "code",
   "execution_count": 3,
   "id": "71899308",
   "metadata": {},
   "outputs": [
    {
     "name": "stdout",
     "output_type": "stream",
     "text": [
      "[ 6 20  3  4  0 19 10 23  8  6  6 23  5  2 23  1 18  1 22  0 19 12 13 11\n",
      " 14  6  1  0 25  4 13 13  4  9 20  8 20 23  3 10 15  3  1]\n"
     ]
    }
   ],
   "source": [
    "vigen = Vigenere(key)\n",
    "print(vigen.get_key())"
   ]
  },
  {
   "cell_type": "markdown",
   "id": "e5f52a52",
   "metadata": {},
   "source": [
    "**Let's encrypt our Odyssey plain text again**"
   ]
  },
  {
   "cell_type": "code",
   "execution_count": 4,
   "id": "1c3fb177",
   "metadata": {},
   "outputs": [
    {
     "name": "stdout",
     "output_type": "stream",
     "text": [
      "Zyop mx, Y jcyk, lk vebl jjgxzvziy ieqs jus clipbovtg ggl drd psam\n",
      "glqjt ef zbz stoxpr zie eezbyb nwqk rp Iupe. Gdry vsqqky anf ef njoim,\n",
      "mao agoy vier xqy vuqlycv xonk ahhcb ugtkjtp bfe yulfbxg nf wzw npuduqhqhn;\n",
      "brskiyir ao pcllbwga nmdd br erl knjld xelmwa bi pdft kjy izr lbpb\n",
      "itj ywkkh zjo mxz fltkmy gszr; fdn li tkki kf scjlt ao zwara sqq tswa\n",
      "hbe zpb, lpr slrl tnlqmehn iksuojl taofz uck xjbfj gklek vy sguimk\n",
      "gui lubnih yu wik Mxr-ghn Egvkonqk; tg ude zaq afkwemxrq xqyu zorw\n",
      "tyfx lhecasko nujj. Vbmd na, tha, nmcau akp guiby bbfqqh, R egojltxb\n",
      "ln Pusj, hope xdamebpjks snyepi hic gxb ucrx zbhq.\n",
      "\n"
     ]
    }
   ],
   "source": [
    "plain_text = '''Tell me, O muse, of that ingenious hero who travelled far and wide\n",
    "after he had sacked the famous town of Troy. Many cities did he visit,\n",
    "and many were the nations with whose manners and customs he was acquainted;\n",
    "moreover he suffered much by sea while trying to save his own life\n",
    "and bring his men safely home; but do what he might he could not save\n",
    "his men, for they perished through their own sheer folly in eating\n",
    "the cattle of the Sun-god Hyperion; so the god prevented them from\n",
    "ever reaching home. Tell me, too, about all these things, O daughter\n",
    "of Jove, from whatsoever source you may know them.\n",
    "'''\n",
    "\n",
    "cipher_message = vigen.crypt(plain_text)\n",
    "\n",
    "print(cipher_message)"
   ]
  },
  {
   "cell_type": "markdown",
   "id": "d4945939",
   "metadata": {},
   "source": [
    "**Now, let's decrypt this**"
   ]
  },
  {
   "cell_type": "code",
   "execution_count": 5,
   "id": "c9aed811",
   "metadata": {},
   "outputs": [
    {
     "name": "stdout",
     "output_type": "stream",
     "text": [
      "Tell me, O muse, of that ingenious hero who travelled far and wide\n",
      "after he had sacked the famous town of Troy. Many cities did he visit,\n",
      "and many were the nations with whose manners and customs he was acquainted;\n",
      "moreover he suffered much by sea while trying to save his own life\n",
      "and bring his men safely home; but do what he might he could not save\n",
      "his men, for they perished through their own sheer folly in eating\n",
      "the cattle of the Sun-god Hyperion; so the god prevented them from\n",
      "ever reaching home. Tell me, too, about all these things, O daughter\n",
      "of Jove, from whatsoever source you may know them.\n",
      "\n"
     ]
    }
   ],
   "source": [
    "decipher_message = vigen.crypt(cipher_message, crypt=False)\n",
    "print(decipher_message)"
   ]
  }
 ],
 "metadata": {
  "kernelspec": {
   "display_name": "Python 3 (ipykernel)",
   "language": "python",
   "name": "python3"
  },
  "language_info": {
   "codemirror_mode": {
    "name": "ipython",
    "version": 3
   },
   "file_extension": ".py",
   "mimetype": "text/x-python",
   "name": "python",
   "nbconvert_exporter": "python",
   "pygments_lexer": "ipython3",
   "version": "3.10.4"
  }
 },
 "nbformat": 4,
 "nbformat_minor": 5
}
