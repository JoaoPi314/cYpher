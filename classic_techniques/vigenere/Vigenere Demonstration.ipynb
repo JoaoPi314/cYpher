{
 "cells": [
  {
   "cell_type": "markdown",
   "id": "a6ff2f78",
   "metadata": {},
   "source": [
    "# Testing the Vigenère Cipher"
   ]
  },
  {
   "cell_type": "code",
   "execution_count": 2,
   "id": "eb7eb08b",
   "metadata": {},
   "outputs": [],
   "source": [
    "import numpy as np\n",
    "from vigenere import *"
   ]
  },
  {
   "cell_type": "markdown",
   "id": "dbb5451e",
   "metadata": {},
   "source": [
    "**First, we will generate a key**"
   ]
  },
  {
   "cell_type": "code",
   "execution_count": 41,
   "id": "31222212",
   "metadata": {},
   "outputs": [
    {
     "name": "stdout",
     "output_type": "stream",
     "text": [
      "[56 29 47 53 61 22 44 65 46 63  4  9 10 13  7 33 45 13 40 12 14 32 49 11\n",
      " 80 48 41 17 48 49 82  0  2 21  4 69  6 69 43 59 10 16 30 72]\n"
     ]
    }
   ],
   "source": [
    "key_range = np.random.randint(45, size=1)\n",
    "key = np.random.randint(85, size=key_range)\n",
    "print(key)"
   ]
  },
  {
   "cell_type": "markdown",
   "id": "20fc22ae",
   "metadata": {},
   "source": [
    "**Now we will create the cipher. Note that the constructor makes the mod 26 operation**"
   ]
  },
  {
   "cell_type": "code",
   "execution_count": 42,
   "id": "71899308",
   "metadata": {},
   "outputs": [
    {
     "name": "stdout",
     "output_type": "stream",
     "text": [
      "[ 4  3 21  1  9 22 18 13 20 11  4  9 10 13  7  7 19 13 14 12 14  6 23 11\n",
      "  2 22 15 17 22 23  4  0  2 21  4 17  6 17 17  7 10 16  4 20]\n"
     ]
    }
   ],
   "source": [
    "vigen = Vigenere(key)\n",
    "print(vigen.get_key())"
   ]
  },
  {
   "cell_type": "markdown",
   "id": "e5f52a52",
   "metadata": {},
   "source": [
    "**Let's encrypt our Odyssey plain text again**"
   ]
  },
  {
   "cell_type": "code",
   "execution_count": 43,
   "id": "1c3fb177",
   "metadata": {},
   "outputs": [
    {
     "name": "stdout",
     "output_type": "stream",
     "text": [
      "Xhgm va, G zodi, xp gohm vbsstfzwo wvnl ahq ovrbvcsot juv die fevr\n",
      "uqxnb ul otq gmqqbo vdt wwjsuu osnt fw [bec. Geqt drparm omm rr cplvh,\n",
      "mbj jlpu lvnb xhg iekofez gyxb akjtn isahpvb kak jnfhaay ep ywh rynyakixvj;\n",
      "dfyoezyv kz tdbxrlph vepo ir fsm knfwg pgpekk tq nemk yzz ymr fmiz\n",
      "bwz tecyk qsf tlg forsrv sqit; sqq ho ycek nv dpqxx bi fjvuz fbn deeo\n",
      "upz frb, rcx qsgu evnfwhgy xyxflnr jlymu jxw ozryc jxvyf pg rofwtd\n",
      "eja rrpqpe qa xyk Jlu-qeh Bcszsrkf; fi eln qbk wkrjqbzbo vdtd bosm\n",
      "gqii xvrjryra lrhf. Cady gp, xxy, nivng oxz zepua iyekks, Q yelmyklb\n",
      "ej Dsyz, gake jblxbyrclk fcgfib jqq bru hroy olvs.\n",
      "\n"
     ]
    }
   ],
   "source": [
    "plain_text = '''Tell me, O muse, of that ingenious hero who travelled far and wide\n",
    "after he had sacked the famous town of Troy. Many cities did he visit,\n",
    "and many were the nations with whose manners and customs he was acquainted;\n",
    "moreover he suffered much by sea while trying to save his own life\n",
    "and bring his men safely home; but do what he might he could not save\n",
    "his men, for they perished through their own sheer folly in eating\n",
    "the cattle of the Sun-god Hyperion; so the god prevented them from\n",
    "ever reaching home. Tell me, too, about all these things, O daughter\n",
    "of Jove, from whatsoever source you may know them.\n",
    "'''\n",
    "\n",
    "cipher_message = vigen.crypt(plain_text)\n",
    "\n",
    "print(cipher_message)"
   ]
  },
  {
   "cell_type": "markdown",
   "id": "d4945939",
   "metadata": {},
   "source": [
    "**Now, let's decrypt this**"
   ]
  },
  {
   "cell_type": "code",
   "execution_count": 44,
   "id": "c9aed811",
   "metadata": {},
   "outputs": [
    {
     "name": "stdout",
     "output_type": "stream",
     "text": [
      "Tell me, O muse, of that ingenious hero who travelled far and wide\n",
      "after he had sacked the famous town of [uum. Ckmq iqgezz ubi ih piecu,\n",
      "ypv does pgwf adg gjgxzni zohx gggym zwiuvkx bqx cgmumok ys nul chrbwkgcrs;\n",
      "xohhujub gw ycsbzyvw rvfb bk mfy yzzzv nkanon pq ljit sii rcb bsew\n",
      "gvq xmpez mjv gez mbdgdp vfgx; dzu kk yajg wp myjnh xo bgatq jja jtaf\n",
      "kcs yyo, dqj kvvs igwjzdgw cugzuwk zvusq gcv fdzli ytmos iz ybrkfx\n",
      "hyy vcyusa qy cut Dud-jur Xiowxqbj; nv kaj hrx pdywcplvr kbxo ksvi\n",
      "gone gpaskobw rnek. Brhg tv, mtp, dvogn bjn lysjy mjnono, Q wjhvstuu\n",
      "ut Zyuw, lzbi rormxphped mpstuv mfo fcd luky mqrb.\n",
      "\n"
     ]
    }
   ],
   "source": [
    "decipher_message = vigen.crypt(cipher_message, crypt=False)\n",
    "print(decipher_message)"
   ]
  }
 ],
 "metadata": {
  "kernelspec": {
   "display_name": "Python 3 (ipykernel)",
   "language": "python",
   "name": "python3"
  },
  "language_info": {
   "codemirror_mode": {
    "name": "ipython",
    "version": 3
   },
   "file_extension": ".py",
   "mimetype": "text/x-python",
   "name": "python",
   "nbconvert_exporter": "python",
   "pygments_lexer": "ipython3",
   "version": "3.10.4"
  }
 },
 "nbformat": 4,
 "nbformat_minor": 5
}
