{
 "cells": [
  {
   "cell_type": "markdown",
   "id": "be128d7d",
   "metadata": {},
   "source": [
    "# Testing the Playfair cipher"
   ]
  },
  {
   "cell_type": "markdown",
   "id": "f37c5235",
   "metadata": {},
   "source": [
    "**Importing necessary libs**"
   ]
  },
  {
   "cell_type": "code",
   "execution_count": 1,
   "id": "18b287b4",
   "metadata": {},
   "outputs": [],
   "source": [
    "import numpy as np\n",
    "from playfair import *"
   ]
  },
  {
   "cell_type": "markdown",
   "id": "3cf0f5cf",
   "metadata": {},
   "source": [
    "**Creating a key**"
   ]
  },
  {
   "cell_type": "code",
   "execution_count": 2,
   "id": "b455eb4d",
   "metadata": {},
   "outputs": [
    {
     "name": "stdout",
     "output_type": "stream",
     "text": [
      "[['Y' 'O' 'U' 'S' 'H']\n",
      " ['A' 'L' 'W' 'I' 'N']\n",
      " ['T' 'P' 'B' 'C' 'D']\n",
      " ['E' 'F' 'G' 'K' 'M']\n",
      " ['Q' 'R' 'V' 'X' 'Z']]\n"
     ]
    }
   ],
   "source": [
    "my_key = 'YOUSHALLWILLNOTPASS'\n",
    "\n",
    "playfair = Playfair(my_key)\n",
    "print(playfair.get_key())"
   ]
  },
  {
   "cell_type": "markdown",
   "id": "0c6f170d",
   "metadata": {},
   "source": [
    "**Now we will encrypt a random message. The cipher is applied in each line of text, removing the spaces and then encrypting the digrams. The decipher message won't have spaces, and will have some 'X' characteres**\n",
    "\n",
    "The plain text is the first paragraph of Odyssey"
   ]
  },
  {
   "cell_type": "code",
   "execution_count": 3,
   "id": "c2f7938b",
   "metadata": {},
   "outputs": [
    {
     "name": "stdout",
     "output_type": "stream",
     "text": [
      "EQIRNFFYGHYKLRDYTENAKFANUSHYFQULYUPQWQFARIMTELQLDMINTMLEEQZOMYNTYIKXMTDYFGNEUSYCULLHEPOLHELASTACAKHCNCYMXWICCQLAMZLAUAFQQEYMALCAHLUIACUNYUYKENIZAMXOLATDSHPYKHYMILYITXYWNAEQCZFHQFURFQYMHSKRGFQFMZSBUDOHQTNUNWQEQONAEBUHWQMYCIULAWLKKQLATCXLWMSNHKMAYIGFAOYUEFGWPTULYNDYFEWKYDYMPSOWMDYPYIQGSNHKMARLQPYMOTFQCIYMTPOZUSMUDYKAOLIAHYKQFQRLIRAONAQTCAWMDYKTTEQCAFLRDYKYHWFUMNOTFQLSIHYPYMFUTBQFQGADMTDYFEROHFGQFQZVQTDSNAMUHFQEFARIEFPYRSWTUSETIRAPYMYKDYNAKUHPWYMUEQVZLRLSQGROHFNUTEHUGQFQHUOVTKOUHGTAMIULDYFE\n"
     ]
    }
   ],
   "source": [
    "plain_text = '''Tell me, O muse, of that ingenious hero who travelled far and wide\n",
    "after he had sacked the famous town of Troy. Many cities did he visit,\n",
    "and many were the nations with whose manners and customs he was acquainted;\n",
    "moreover he suffered much by sea while trying to save his own life\n",
    "and bring his men safely home; but do what he might he could not save\n",
    "his men, for they perished through their own sheer folly in eating\n",
    "the cattle of the Sun-god Hyperion; so the god prevented them from\n",
    "ever reaching home. Tell me, too, about all these things, O daughter\n",
    "of Jove, from whatsoever source you may know them.\n",
    "'''\n",
    "cipher_message = ''\n",
    "for line in plain_text.splitlines():\n",
    "    cipher_message += playfair.crypt(line)\n",
    "\n",
    "print(cipher_message)"
   ]
  },
  {
   "cell_type": "markdown",
   "id": "3aad4c83",
   "metadata": {},
   "source": [
    "**And now we gonna decrypt the text**"
   ]
  },
  {
   "cell_type": "code",
   "execution_count": 4,
   "id": "6d5013f8",
   "metadata": {},
   "outputs": [
    {
     "name": "stdout",
     "output_type": "stream",
     "text": [
      "TELXLMEOMUSEOFTHATINGENIOUSHEROWHOTRAVELXLEDFARANDWIDEAFTERHEHADSACKEDTHEFAMOUSTOWNOFTROYMANYCITIESDIDHEVISITXANDMANYWERETHENATIONSWITHWHOSEMANXNERSANDCUSTOMSHEWASACQUAINTEDXMOREOVERHESUFXFEREDMUCHBYSEAWHILETRYINGTOSAVEHISOWNLIFEXANDBRINGHISMENSAFELYHOMEBUTDOWHATHEMIGHTHECOULDNOTSAVEHISMENFORTHEYPERISHEDTHROUGHTHEIROWNSHEXERFOLXLYINEATINGTHECATXTLEOFTHESUNGODHYPERIONSOTHEGODPREVENTEDTHEMFROMEVERXREACHINGHOMETELXLMETOXOABOUTALXLTHESETHINGSODAUGHTERXOFIOVEFROMWHATSOEVERSOURCEYOUMAYKNOWTHEM\n"
     ]
    }
   ],
   "source": [
    "decipher_message = playfair.decrypt(cipher_message)\n",
    "print(decipher_message)"
   ]
  },
  {
   "cell_type": "markdown",
   "id": "cc1ba76a",
   "metadata": {},
   "source": [
    "**We can also encrypt letter by letter**"
   ]
  },
  {
   "cell_type": "code",
   "execution_count": 5,
   "id": "a7aea677",
   "metadata": {},
   "outputs": [
    {
     "name": "stdout",
     "output_type": "stream",
     "text": [
      "EQIRIR EF SR GHYK LR DYTE NAKFANUSIS YMOL NUSR PQWQFARIMT ELVZ LACZ INTM LEEQVZ YM YNCZ YIKXMT DYKQ ELFHSH PYIA LR PQUO ENAH KCCAKY CNCZ YM XWICCQ LACZ ENAH AGQF DYKQ ALCAHLIS INDY NUUHKQ ENIZAMXO LACZ BSYCHFIS YM ILIS ITVYLNADMT FHQFURFQ YM HSKRGFQFCZ GHDS TU YKIQ NUNWKQ PQSAWM PY YIQG SNIS ULIZ WNGF LACZ PVNAKV SNIS EFIZ YIGFAO YUEF GWCQ PH NUTE YM KNMUCQ YM PSOWCZ LHCQ YIQG SNIS EFIZ RLVZ DYQA TFXLHYMT DYOLWVSZ DYKAVZ ULIZ HYKQFQ RLIRAO NA QTCAWM DYKQ TICQPAKQ LR DYKQ HSWMHP YOTFXLHL HU DYKQ FUCZ FOGQMAEQCZ DYFE ROHF GQFQ QFITSNWM YUEF EQIRIR EF PYRS WTUSCQ LWRI DYKYKQ DYNAKU SR TNWVYDFQ LR LSQG ROHF NUTEHUGQFQ HUOVTK OUSV ENSQ MIUL DYFE \n"
     ]
    }
   ],
   "source": [
    "cipher_message_2 = ''\n",
    "for line in plain_text.split():\n",
    "    cipher_message_2 += playfair.crypt(line) + ' '\n",
    "\n",
    "print(cipher_message_2)"
   ]
  },
  {
   "cell_type": "code",
   "execution_count": 6,
   "id": "7c3805e4",
   "metadata": {},
   "outputs": [
    {
     "name": "stdout",
     "output_type": "stream",
     "text": [
      "TELXLX ME OX MUSE OF THAT INGENIOUSX HERO WHOX TRAVELXLED FARX ANDX WIDE AFTERX HE HADX SACKED THEX FAMOUS TOWN OF TROY MANY CITIES DIDX HE VISITX ANDX MANY WERE THEX NATIONSX WITH WHOSEX MANXNERS ANDX CUSTOMSX HE WASX ACQUAINTED MOREOVER HE SUFXFEREDX MUCH BY SEAX WHILEX TRYING TO SAVE HISX OWNX LIFE ANDX BRINGX HISX MENX SAFELY HOME BUTX DO WHAT HE MIGHTX HE COULDX NOTX SAVE HISX MENX FORX THEY PERISHED THROUGHX THEIRX OWNX SHEXER FOLXLY IN EATING THEX CATXTLEX OF THEX SUNGOD HYPERION SO THEX GODX PREVENTEDX THEM FROM EVER REACHING HOME TELXLX ME TOXO ABOUTX ALXL THESEX THINGS OX DAUGHTER OF IOVE FROM WHATSOEVER SOURCE YOUX MAYX KNOW THEM \n"
     ]
    }
   ],
   "source": [
    "decipher_message_2 = ''\n",
    "for line in cipher_message_2.split():\n",
    "    decipher_message_2 += playfair.decrypt(line) + ' '\n",
    "\n",
    "print(decipher_message_2)"
   ]
  }
 ],
 "metadata": {
  "kernelspec": {
   "display_name": "Python 3 (ipykernel)",
   "language": "python",
   "name": "python3"
  },
  "language_info": {
   "codemirror_mode": {
    "name": "ipython",
    "version": 3
   },
   "file_extension": ".py",
   "mimetype": "text/x-python",
   "name": "python",
   "nbconvert_exporter": "python",
   "pygments_lexer": "ipython3",
   "version": "3.10.4"
  }
 },
 "nbformat": 4,
 "nbformat_minor": 5
}
