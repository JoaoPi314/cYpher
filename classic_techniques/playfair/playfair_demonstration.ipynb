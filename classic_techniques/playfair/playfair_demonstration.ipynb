{
 "cells": [
  {
   "cell_type": "markdown",
   "id": "be128d7d",
   "metadata": {},
   "source": [
    "# Testing the Playfair cipher"
   ]
  },
  {
   "cell_type": "markdown",
   "id": "f37c5235",
   "metadata": {},
   "source": [
    "**Importing necessary libs**"
   ]
  },
  {
   "cell_type": "code",
   "execution_count": 1,
   "id": "18b287b4",
   "metadata": {},
   "outputs": [],
   "source": [
    "import numpy as np\n",
    "from playfair import *"
   ]
  },
  {
   "cell_type": "markdown",
   "id": "3cf0f5cf",
   "metadata": {},
   "source": [
    "**Creating a key**"
   ]
  },
  {
   "cell_type": "code",
   "execution_count": 2,
   "id": "b455eb4d",
   "metadata": {},
   "outputs": [
    {
     "name": "stdout",
     "output_type": "stream",
     "text": [
      "[['D' 'E' 'T' 'R' 'M']\n",
      " ['I' 'N' 'A' 'O' 'B']\n",
      " ['C' 'F' 'G' 'H' 'K']\n",
      " ['L' 'P' 'Q' 'S' 'U']\n",
      " ['V' 'W' 'X' 'Y' 'Z']]\n"
     ]
    }
   ],
   "source": [
    "my_key = 'DETERMINATION'\n",
    "\n",
    "playfair = Playfair(my_key)\n",
    "print(playfair.get_key())"
   ]
  },
  {
   "cell_type": "markdown",
   "id": "0c6f170d",
   "metadata": {},
   "source": [
    "**Now we will encrypt a random message. The cipher is applied in each line of text, removing the spaces and then encrypting the digrams. The decipher message won't have spaces, and will have some 'X' characteres**\n",
    "\n",
    "The plain text is the first paragraph of Odyssey"
   ]
  },
  {
   "cell_type": "code",
   "execution_count": 3,
   "id": "c2f7938b",
   "metadata": {},
   "outputs": [
    {
     "name": "stdout",
     "output_type": "stream",
     "text": [
      "RTQVUDRNBZPRNHRGGANAFTANBSYSTMNYSHRMIXDPPDECOTOAEVCITWNGRTOSRFITQOFCTERGNPBTBSQRNYABGEOHZROAVHADNDLRCIFRDCLOATOAEDOAZXTMTRFRAODABAPYADFYSHPRTBAWFNOYOAILLURARUFRXNQOGLQBNARTTVRBMTIYTMFRULGWPNMTEDLKKORYTNYFCVTRORNAQAHYIXRFOLNYIPNCTWOAMIDOAFCOURNFQOPNSVSHDTKZRENYGORGTDACGRFRHILPEIARQOWDCOURNFHNMRFRWSTMOLFRERSOBSHKRGDNOHEFYSTWTMHNQVSVNATNDAAFRGDFGADQRNGEFRULAFIRSRWNDOBAYHRGTFIRSEDWNFRTERFREKOHTZDWTMMTIGCOAFSHDTRTQVUDTRAYBOIBQMIQQDFRPRRGNAHQIRBQHKRTTYNHNBWDHEBRYFGAYHDWTMYHSMFDRHZBOXFBNYRGTD\n"
     ]
    }
   ],
   "source": [
    "plain_text = '''Tell me, O muse, of that ingenious hero who travelled far and wide\n",
    "after he had sacked the famous town of Troy. Many cities did he visit,\n",
    "and many were the nations with whose manners and customs he was acquainted;\n",
    "moreover he suffered much by sea while trying to save his own life\n",
    "and bring his men safely home; but do what he might he could not save\n",
    "his men, for they perished through their own sheer folly in eating\n",
    "the cattle of the Sun-god Hyperion; so the god prevented them from\n",
    "ever reaching home. Tell me, too, about all these things, O daughter\n",
    "of Jove, from whatsoever source you may know them.\n",
    "'''\n",
    "cipher_message = ''\n",
    "for line in plain_text.splitlines():\n",
    "    cipher_message += playfair.crypt(line)\n",
    "\n",
    "print(cipher_message)"
   ]
  },
  {
   "cell_type": "markdown",
   "id": "3aad4c83",
   "metadata": {},
   "source": [
    "**And now we gonna decrypt the text**"
   ]
  },
  {
   "cell_type": "code",
   "execution_count": 4,
   "id": "6d5013f8",
   "metadata": {},
   "outputs": [
    {
     "name": "stdout",
     "output_type": "stream",
     "text": [
      "TELXLMEOMUSEOFTHATINGENIOUSHEROWHOTRAVELLEDFARANDWIDEXAFTERHEHADSACKEDTHEFAMOUSTOWNOFTROYMANYCITIESDIDHEVISITXANDMANYWERETHENATIONSWITHWHOSEMANXNERSANDCUSTOMSHEWASACQUAINTEDXMOREOVERHESUFXFEREDMUCHBYSEAWHILETRYINGTOSAVEHISOWNLIFEXANDBRINGHISMENSAFELYHOMEBUTDOWHATHEMIGHTHECOULDNOTSAVEHISMENFORTHEYPERISHEDTHROUGHTHEIROWNSHEXERFOLXLYINEATINGTHECATTLEOFTHESUNGODHYPERIONSOTHEGODPREVENTEDTHEMFROMXEVERREACHINGHOMETELXLMETOXOABOUTALLTHESETHINGSODAUGHTERXOFIOVEFROMWHATSOEVERSOURCEYOUMAYKNOWTHEM\n"
     ]
    }
   ],
   "source": [
    "decipher_message = playfair.decrypt(cipher_message)\n",
    "print(decipher_message)"
   ]
  },
  {
   "cell_type": "markdown",
   "id": "cc1ba76a",
   "metadata": {},
   "source": [
    "**We can also encrypt word by word**"
   ]
  },
  {
   "cell_type": "code",
   "execution_count": 5,
   "id": "a7aea677",
   "metadata": {},
   "outputs": [
    {
     "name": "stdout",
     "output_type": "stream",
     "text": [
      "RTQVQV DT AY BZPR NH RGGA NAFTANBSQY FROH YFAY RMIXDPPDTV GNTY OATV VNET NGRTTY FR GOTV QOFCTE RGTW GNRBLU RAEF NH RMHR TBOW LCDARP ICTV FR DCLOAT OATV TBOW ENMT RGTW AODABAQY VNRG YFHYTW TBAWFNOY OATV KLQRBRQY FR XNQY IGSLONAETE RBMTIYTM FR ULGWPNMTTV BZFK OZ PRGT YFCVTW RMVOAF RA QOWD COQY NYAW VCPN OATV OMNAQT COQY DTAW QOPNSV SHDT KZAT RI YFGA FR DBHKAT FR HILPTV ABAT QOWD COQY DTAW HNTY RGRW WNDOYSTE RGOHQKGY RGDNTY NYAW YSTWTM HNQVSV NA TNDAAF RGTW GIATDQTW NH RGTW ULAFIR SRWNDOBA YH RGTW HATV SEDWNFRTTV RGTD HEBR DWTM MTIGCOAF SHDT RTQVQV DT RAAY OIBSAT IQQV RGRPTW RGNAHQ AY TIQKGRTM NH NBWD HEBR YFGAYHDWTM YHSMFD RHQZ TBZY FBNY RGTD \n"
     ]
    }
   ],
   "source": [
    "cipher_message_2 = ''\n",
    "for word in plain_text.split():\n",
    "    cipher_message_2 += playfair.crypt(word) + ' '\n",
    "\n",
    "print(cipher_message_2)"
   ]
  },
  {
   "cell_type": "code",
   "execution_count": 6,
   "id": "7c3805e4",
   "metadata": {},
   "outputs": [
    {
     "name": "stdout",
     "output_type": "stream",
     "text": [
      "TELXLX ME OX MUSE OF THAT INGENIOUSX HERO WHOX TRAVELLEDX FARX ANDX WIDE AFTERX HE HADX SACKED THEX FAMOUS TOWN OF TROY MANY CITIES DIDX HE VISITX ANDX MANY WERE THEX NATIONSX WITH WHOSEX MANXNERS ANDX CUSTOMSX HE WASX ACQUAINTED MOREOVER HE SUFXFEREDX MUCH BY SEAX WHILEX TRYING TO SAVE HISX OWNX LIFE ANDX BRINGX HISX MENX SAFELY HOME BUTX DO WHAT HE MIGHTX HE COULDX NOTX SAVE HISX MENX FORX THEY PERISHED THROUGHX THEIRX OWNX SHEXER FOLXLY IN EATING THEX CATXTLEX OF THEX SUNGOD HYPERION SO THEX GODX PREVENTEDX THEM FROM EVER REACHING HOME TELXLX ME TOOX ABOUTX ALLX THESEX THINGS OX DAUGHTER OF IOVE FROM WHATSOEVER SOURCE YOUX MAYX KNOW THEM \n"
     ]
    }
   ],
   "source": [
    "decipher_message_2 = ''\n",
    "for word in cipher_message_2.split():\n",
    "    decipher_message_2 += playfair.decrypt(word) + ' '\n",
    "\n",
    "print(decipher_message_2)"
   ]
  }
 ],
 "metadata": {
  "kernelspec": {
   "display_name": "Python 3 (ipykernel)",
   "language": "python",
   "name": "python3"
  },
  "language_info": {
   "codemirror_mode": {
    "name": "ipython",
    "version": 3
   },
   "file_extension": ".py",
   "mimetype": "text/x-python",
   "name": "python",
   "nbconvert_exporter": "python",
   "pygments_lexer": "ipython3",
   "version": "3.8.10"
  }
 },
 "nbformat": 4,
 "nbformat_minor": 5
}
