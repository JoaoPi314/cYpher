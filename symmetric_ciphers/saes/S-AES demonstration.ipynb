{
 "cells": [
  {
   "cell_type": "markdown",
   "id": "43b46aef",
   "metadata": {},
   "source": [
    "# S-AES demonstration (ECB) to encrypt a given text"
   ]
  },
  {
   "cell_type": "code",
   "execution_count": 1,
   "id": "c44da115",
   "metadata": {},
   "outputs": [],
   "source": [
    "from saes import *\n",
    "from aux_functions import *"
   ]
  },
  {
   "cell_type": "markdown",
   "id": "b5393c09",
   "metadata": {},
   "source": [
    "First, the string that will be encripted is defined (Say hello again to Homero). Note that the text to this example must be in English because the function that converts into a byte array assumes that the text is encoded in ASCII."
   ]
  },
  {
   "cell_type": "code",
   "execution_count": 2,
   "id": "8aa6f807",
   "metadata": {},
   "outputs": [],
   "source": [
    "plain_text = '''\n",
    "Tell me, O muse, of that ingenious hero who travelled far and wide\n",
    "after he had sacked the famous town of Troy. Many cities did he visit,\n",
    "and many were the nations with whose manners and customs he was acquainted;\n",
    "moreover he suffered much by sea while trying to save his own life\n",
    "and bring his men safely home; but do what he might he could not save\n",
    "his men, for they perished through their own sheer folly in eating\n",
    "the cattle of the Sun-god Hyperion; so the god prevented them from\n",
    "ever reaching home. Tell me, too, about all these things, O daughter\n",
    "of Jove, from whatsoever source you may know them.\n",
    "'''"
   ]
  },
  {
   "cell_type": "markdown",
   "id": "fb874403",
   "metadata": {},
   "source": [
    "Now, let's convert this text into an array of bytes"
   ]
  },
  {
   "cell_type": "code",
   "execution_count": 3,
   "id": "dfd09a2a",
   "metadata": {},
   "outputs": [
    {
     "name": "stdout",
     "output_type": "stream",
     "text": [
      "[0xa 0x54 0x65 0x6c 0x6c 0x20 0x6d 0x65 0x2c 0x20 0x4f 0x20 0x6d 0x75 0x73\n",
      " 0x65 0x2c 0x20 0x6f 0x66 0x20 0x74 0x68 0x61 0x74 0x20 0x69 0x6e 0x67\n",
      " 0x65 0x6e 0x69 0x6f 0x75 0x73 0x20 0x68 0x65 0x72 0x6f 0x20 0x77 0x68\n",
      " 0x6f 0x20 0x74 0x72 0x61 0x76 0x65 0x6c 0x6c 0x65 0x64 0x20 0x66 0x61\n",
      " 0x72 0x20 0x61]\n"
     ]
    }
   ],
   "source": [
    "# Default print in numpy is decimal, changing to hexadecimal to better visualization of bytes\n",
    "np.set_printoptions(formatter={'int':hex})\n",
    "\n",
    "# Converting into a bitstream\n",
    "bit_stream = string2bit(plain_text)\n",
    "\n",
    "# Converting into array\n",
    "byte_array = bit2bytearray(bit_stream)\n",
    "\n",
    "# Showing a slice of array\n",
    "print(byte_array[0:(int(byte_array.size/10))])"
   ]
  },
  {
   "cell_type": "markdown",
   "id": "10f57857",
   "metadata": {},
   "source": [
    "Now, let's instantiate the S-AES and with a for loop we pass the plain text in blocks of 2 bytes. The key will be the main fuel of any programmer"
   ]
  },
  {
   "cell_type": "code",
   "execution_count": 4,
   "id": "0d96eb26",
   "metadata": {},
   "outputs": [],
   "source": [
    "key = np.array([0xCA, 0xFE], dtype=np.uint8)\n",
    "saes = Saes(key)"
   ]
  },
  {
   "cell_type": "markdown",
   "id": "3f1c4c69",
   "metadata": {},
   "source": [
    "Now, the loop"
   ]
  },
  {
   "cell_type": "code",
   "execution_count": 5,
   "id": "937f6f16",
   "metadata": {},
   "outputs": [
    {
     "name": "stdout",
     "output_type": "stream",
     "text": [
      "[0x60 0xf5 0x2c 0x56 0x98 0xb9 0x6f 0x3c 0xd8 0xb0 0xe7 0x81 0x6e 0x6c\n",
      " 0xe2 0x89 0xd8 0xb0 0xa0 0xd0 0xe6 0xde 0xe4 0x13 0x74 0xcc 0x19 0xbe\n",
      " 0x61 0x4c 0xf8 0x25 0x62 0xfc 0x7c 0xdc 0x64 0x1c 0xe 0x92 0xf6 0xdb 0x54\n",
      " 0x11 0xe6 0xde 0x6e 0x9b 0xe5 0xc9 0x2b 0xe6 0xc 0x5d 0x43 0xf9 0xc3 0x87\n",
      " 0x3 0xf8]\n"
     ]
    }
   ],
   "source": [
    "cipher_message = np.zeros((int(byte_array.size),), dtype=np.uint8)\n",
    "\n",
    "for i in range(0, int(cipher_message.size), 2):\n",
    "    cipher_block = saes.crypt(byte_array[i:i+2])\n",
    "    cipher_message[i] = cipher_block[0]\n",
    "    cipher_message[i+1] = cipher_block[1]\n",
    "\n",
    "print(cipher_message[0:(int(cipher_message.size/10))])  "
   ]
  },
  {
   "cell_type": "markdown",
   "id": "9c18ee32",
   "metadata": {},
   "source": [
    "If someone tries to read this cipher message, this is what he will get"
   ]
  },
  {
   "cell_type": "code",
   "execution_count": 6,
   "id": "ad608a0c",
   "metadata": {},
   "outputs": [
    {
     "data": {
      "text/plain": [
       "'`õ,V\\x98¹o<Ø°ç\\x81nlâ\\x89Ø°\\xa0ÐæÞä\\x13tÌ\\x19¾aLø%bü|Üd\\x1c\\x0e\\x92öÛT\\x11æÞn\\x9båÉ+æ\\x0c]CùÃ\\x87\\x03ø\\x08-öÛ\\t½3º¦pí\\tv<d\\x1c\\x93ÿ\\x06}\\x16Ó¶xgl\\x94ÉÍ\\x01\\x92iåÃ_1\\'\\x94æÞ\\x82ô\\x9bI\\xa0Ðë®\\x0e\\x921åÇ$\\x16~qìò\\x85M\\x0e·\\x98ãþ\\t½\\x93ÿ\\x92iEÎB\\x8e´ÀZ¤\\x08-Ãô\\x16~qìáIî\\x99æÞd\\x1c³ý\\x03\\x8dY±±ÈöÛ\\x0b\\x1d\\x9d©ÁA²ø\\x92iï3\\x18.Ç\\x97|Ü\\x16~\\x94É`|PwpÛ|Üd\\x1cöÛ³\\x88\\x03øàsl[\\x19¾í\\tB?Ú¨Â÷\\\\QåÉv<d\\x1c\\x16Ó\\x8cVeÌî\\x99\\x94ÉnlÒ\\x82sõqìâ\\x89\\x9eùÁA)¶\\x92iÕMI¾\\x88$æÞ\\x97\\x89b\\x8båÉ\\x93ÿ»\\x18cú1E3ü©°3º\\x16~\\x94ÉÏW\\x19¾\\x99)ô\\x15|Üo<\\x9bIb\\x8beÌù¥\\x93ÿpÛD/sõW\\x97ãþ\\x97\\x89ÁA\\x03\\x8d\\x93ÿ\\x92iÿ5ÑBtÌd\\x1c\\x13óbü\\x0bí³ý\\x02ý\\x16Ó£\\x803ºô\\x15|Üo<+FCùÂ÷æÞd\\x1cqìãùN\\x9eÂ\\x81\\x0c]æÞÊ·büÑBæÞd\\x1cË\\x17cú1E\\x16Ód\\x1cÇ\\x97Cù Öù¥\\x83÷\\x9bIìSM\\x0e\\x88$dåd\\x1c\\x13ó\\x03\\x8d½\\x00\\x92i\\xa0ÐæÞd\\x1c\\x1b£<Uÿ;\\x00Ý\\x97/{\\x1cÇ\\x97Y±C_\\x16Ó\\x97\\x89Í\\x01\\x92iQA\\x94ÉÖÝ§\\x90\\x1c^í\\t\\x94ÉÍ\\x01|[Cù\\x0e\\x922ª§\\x90Ç\\x97vÕìSÒ\\x82\\x19¾\\x99)T\\x11o<Û@-\\x0b+æÃô\"fæÞPÑØ°ÆwbütÌ&v\\x98¹Í\\x01·\\x98\\x92iÍ\\x01\\x19¾¸\\x08Ø°ç\\x81í\\x03¬X\\n½Ç\\x97ê¯\\x9a\\tÊ©åÉØ°Í\\'pÛöÛä\\x13%D`ÜåÉv<\\x02\\x82×\\x9db\\x8c\\x86×büÃôó\\x85£òX!y,Í\\x01|[$Ñ'"
      ]
     },
     "execution_count": 6,
     "metadata": {},
     "output_type": "execute_result"
    }
   ],
   "source": [
    "bytearray2string(cipher_message)"
   ]
  },
  {
   "cell_type": "markdown",
   "id": "76869919",
   "metadata": {},
   "source": [
    "Now, let's decode the message and then read the original message"
   ]
  },
  {
   "cell_type": "code",
   "execution_count": 7,
   "id": "9c6fa444",
   "metadata": {},
   "outputs": [
    {
     "name": "stdout",
     "output_type": "stream",
     "text": [
      "[0xa 0x54 0x65 0x6c 0x6c 0x20 0x6d 0x65 0x2c 0x20 0x4f 0x20 0x6d 0x75 0x73\n",
      " 0x65 0x2c 0x20 0x6f 0x66 0x20 0x74 0x68 0x61 0x74 0x20 0x69 0x6e 0x67\n",
      " 0x65 0x6e 0x69 0x6f 0x75 0x73 0x20 0x68 0x65 0x72 0x6f 0x20 0x77 0x68\n",
      " 0x6f 0x20 0x74 0x72 0x61 0x76 0x65 0x6c 0x6c 0x65 0x64 0x20 0x66 0x61\n",
      " 0x72 0x20 0x61]\n"
     ]
    }
   ],
   "source": [
    "decoded_message = np.zeros((int(cipher_message.size),), dtype=np.uint8)\n",
    "\n",
    "for i in range(0, int(decoded_message.size), 2):\n",
    "    decoded_block = saes.decrypt(cipher_message[i:i+2])\n",
    "    decoded_message[i] = decoded_block[0]\n",
    "    decoded_message[i+1] = decoded_block[1]\n",
    "\n",
    "print(decoded_message[0:(int(decoded_message.size/10))])  "
   ]
  },
  {
   "cell_type": "markdown",
   "id": "2e1525d8",
   "metadata": {},
   "source": [
    "Converting to string"
   ]
  },
  {
   "cell_type": "code",
   "execution_count": 8,
   "id": "ac1969b0",
   "metadata": {},
   "outputs": [
    {
     "name": "stdout",
     "output_type": "stream",
     "text": [
      "\n",
      "Tell me, O muse, of that ingenious hero who travelled far and wide\n",
      "after he had sacked the famous town of Troy. Many cities did he visit,\n",
      "and many were the nations with whose manners and customs he was acquainted;\n",
      "moreover he suffered much by sea while trying to save his own life\n",
      "and bring his men safely home; but do what he might he could not save\n",
      "his men, for they perished through their own sheer folly in eating\n",
      "the cattle of the Sun-god Hyperion; so the god prevented them from\n",
      "ever reaching home. Tell me, too, about all these things, O daughter\n",
      "of Jove, from whatsoever source you may know them.\n",
      "\n"
     ]
    }
   ],
   "source": [
    "print(bytearray2string(decoded_message))"
   ]
  }
 ],
 "metadata": {
  "kernelspec": {
   "display_name": "Python 3 (ipykernel)",
   "language": "python",
   "name": "python3"
  },
  "language_info": {
   "codemirror_mode": {
    "name": "ipython",
    "version": 3
   },
   "file_extension": ".py",
   "mimetype": "text/x-python",
   "name": "python",
   "nbconvert_exporter": "python",
   "pygments_lexer": "ipython3",
   "version": "3.10.4"
  }
 },
 "nbformat": 4,
 "nbformat_minor": 5
}
